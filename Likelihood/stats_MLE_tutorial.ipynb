{
 "cells": [
  {
   "cell_type": "code",
   "execution_count": 2,
   "id": "02c9a96c",
   "metadata": {},
   "outputs": [],
   "source": [
    "### MXIMUM LIKELIHOOD ESTIMATION ###\n",
    "# How to quickly implement new maximum likelihood models in statsmodels\n",
    "# The GenericLikelihoodModel class esas the process by providing\n",
    "# tools such as automatic numeric differenciation and an unified\n",
    "# interface to scipy optimization functions. Using statsmodels\n",
    "# users can fit new  MLE models simply by \"plugging-in\" a log-likelihood\n",
    "# function"
   ]
  },
  {
   "cell_type": "markdown",
   "id": "830545f4",
   "metadata": {},
   "source": [
    "# EXAMPLE 1: PROBIT MODEL\n"
   ]
  },
  {
   "cell_type": "code",
   "execution_count": 4,
   "id": "c88003e3",
   "metadata": {},
   "outputs": [],
   "source": [
    "import numpy as np\n",
    "from scipy import stats\n",
    "import statsmodels.api as sm\n",
    "from statsmodels.base.model import GenericLikelihoodModel"
   ]
  },
  {
   "cell_type": "code",
   "execution_count": 5,
   "id": "21130e4e",
   "metadata": {},
   "outputs": [
    {
     "name": "stdout",
     "output_type": "stream",
     "text": [
      "::\n",
      "\n",
      "    Number of Observations - 32\n",
      "\n",
      "    Number of Variables - 4\n",
      "\n",
      "    Variable name definitions::\n",
      "\n",
      "        Grade - binary variable indicating whether or not a student's grade\n",
      "                improved.  1 indicates an improvement.\n",
      "        TUCE  - Test score on economics test\n",
      "        PSI   - participation in program\n",
      "        GPA   - Student's grade point average\n",
      "\n"
     ]
    }
   ],
   "source": [
    "# The Spector dataset is distributed with statsmodels. You can access\n",
    "# values for the DEPENDENT/ENDOG variable anf a matrix of REGRESSOR/\n",
    "# INDEPENDET/EXOG like this:\n",
    "data = sm.datasets.spector.load_pandas()\n",
    "exog = data.exog\n",
    "endog = data.endog\n",
    "print(sm.datasets.spector.NOTE)"
   ]
  },
  {
   "cell_type": "code",
   "execution_count": 6,
   "id": "c16422b9",
   "metadata": {},
   "outputs": [
    {
     "data": {
      "text/html": [
       "<div>\n",
       "<style scoped>\n",
       "    .dataframe tbody tr th:only-of-type {\n",
       "        vertical-align: middle;\n",
       "    }\n",
       "\n",
       "    .dataframe tbody tr th {\n",
       "        vertical-align: top;\n",
       "    }\n",
       "\n",
       "    .dataframe thead th {\n",
       "        text-align: right;\n",
       "    }\n",
       "</style>\n",
       "<table border=\"1\" class=\"dataframe\">\n",
       "  <thead>\n",
       "    <tr style=\"text-align: right;\">\n",
       "      <th></th>\n",
       "      <th>GPA</th>\n",
       "      <th>TUCE</th>\n",
       "      <th>PSI</th>\n",
       "    </tr>\n",
       "  </thead>\n",
       "  <tbody>\n",
       "    <tr>\n",
       "      <th>0</th>\n",
       "      <td>2.66</td>\n",
       "      <td>20.0</td>\n",
       "      <td>0.0</td>\n",
       "    </tr>\n",
       "    <tr>\n",
       "      <th>1</th>\n",
       "      <td>2.89</td>\n",
       "      <td>22.0</td>\n",
       "      <td>0.0</td>\n",
       "    </tr>\n",
       "    <tr>\n",
       "      <th>2</th>\n",
       "      <td>3.28</td>\n",
       "      <td>24.0</td>\n",
       "      <td>0.0</td>\n",
       "    </tr>\n",
       "    <tr>\n",
       "      <th>3</th>\n",
       "      <td>2.92</td>\n",
       "      <td>12.0</td>\n",
       "      <td>0.0</td>\n",
       "    </tr>\n",
       "    <tr>\n",
       "      <th>4</th>\n",
       "      <td>4.00</td>\n",
       "      <td>21.0</td>\n",
       "      <td>0.0</td>\n",
       "    </tr>\n",
       "  </tbody>\n",
       "</table>\n",
       "</div>"
      ],
      "text/plain": [
       "    GPA  TUCE  PSI\n",
       "0  2.66  20.0  0.0\n",
       "1  2.89  22.0  0.0\n",
       "2  3.28  24.0  0.0\n",
       "3  2.92  12.0  0.0\n",
       "4  4.00  21.0  0.0"
      ]
     },
     "execution_count": 6,
     "metadata": {},
     "output_type": "execute_result"
    }
   ],
   "source": [
    "data.exog.head()"
   ]
  },
  {
   "cell_type": "code",
   "execution_count": 7,
   "id": "d49634bf",
   "metadata": {},
   "outputs": [
    {
     "data": {
      "text/plain": [
       "0    0.0\n",
       "1    0.0\n",
       "2    0.0\n",
       "3    0.0\n",
       "4    1.0\n",
       "Name: GRADE, dtype: float64"
      ]
     },
     "execution_count": 7,
     "metadata": {},
     "output_type": "execute_result"
    }
   ],
   "source": [
    "data.endog.head()"
   ]
  },
  {
   "cell_type": "code",
   "execution_count": 8,
   "id": "9635655b",
   "metadata": {},
   "outputs": [],
   "source": [
    "# We add a constannt to the matrix of regressors\n",
    "exog = sm.add_constant(exog, prepend = True)"
   ]
  },
  {
   "cell_type": "code",
   "execution_count": 9,
   "id": "2f7299f2",
   "metadata": {},
   "outputs": [],
   "source": [
    "# Create your own Likelihood Model: simply ovverwrite the loglike method\n",
    "class MyProbit(GenericLikelihoodModel):\n",
    "    def loglike(self, params):\n",
    "        exog = self.exog\n",
    "        endog = self.endog\n",
    "        q = 2 * endog - 1\n",
    "        return stats.norm.logcdf(q * np.dot(exog, params)).sum()"
   ]
  },
  {
   "cell_type": "code",
   "execution_count": 10,
   "id": "fc79549e",
   "metadata": {},
   "outputs": [
    {
     "name": "stdout",
     "output_type": "stream",
     "text": [
      "Optimization terminated successfully.\n",
      "         Current function value: 0.400588\n",
      "         Iterations: 292\n",
      "         Function evaluations: 494\n"
     ]
    },
    {
     "data": {
      "text/html": [
       "<table class=\"simpletable\">\n",
       "<caption>MyProbit Results</caption>\n",
       "<tr>\n",
       "  <th>Dep. Variable:</th>           <td>GRADE</td>       <th>  Log-Likelihood:    </th> <td> -12.819</td>\n",
       "</tr>\n",
       "<tr>\n",
       "  <th>Model:</th>                 <td>MyProbit</td>      <th>  AIC:               </th> <td>   33.64</td>\n",
       "</tr>\n",
       "<tr>\n",
       "  <th>Method:</th>           <td>Maximum Likelihood</td> <th>  BIC:               </th> <td>   39.50</td>\n",
       "</tr>\n",
       "<tr>\n",
       "  <th>Date:</th>              <td>Tue, 17 May 2022</td>  <th>                     </th>     <td> </td>   \n",
       "</tr>\n",
       "<tr>\n",
       "  <th>Time:</th>                  <td>10:04:14</td>      <th>                     </th>     <td> </td>   \n",
       "</tr>\n",
       "<tr>\n",
       "  <th>No. Observations:</th>       <td>    32</td>       <th>                     </th>     <td> </td>   \n",
       "</tr>\n",
       "<tr>\n",
       "  <th>Df Residuals:</th>           <td>    28</td>       <th>                     </th>     <td> </td>   \n",
       "</tr>\n",
       "<tr>\n",
       "  <th>Df Model:</th>               <td>     3</td>       <th>                     </th>     <td> </td>   \n",
       "</tr>\n",
       "</table>\n",
       "<table class=\"simpletable\">\n",
       "<tr>\n",
       "    <td></td>       <th>coef</th>     <th>std err</th>      <th>z</th>      <th>P>|z|</th>  <th>[0.025</th>    <th>0.975]</th>  \n",
       "</tr>\n",
       "<tr>\n",
       "  <th>const</th> <td>   -7.4523</td> <td>    2.542</td> <td>   -2.931</td> <td> 0.003</td> <td>  -12.435</td> <td>   -2.469</td>\n",
       "</tr>\n",
       "<tr>\n",
       "  <th>GPA</th>   <td>    1.6258</td> <td>    0.694</td> <td>    2.343</td> <td> 0.019</td> <td>    0.266</td> <td>    2.986</td>\n",
       "</tr>\n",
       "<tr>\n",
       "  <th>TUCE</th>  <td>    0.0517</td> <td>    0.084</td> <td>    0.617</td> <td> 0.537</td> <td>   -0.113</td> <td>    0.216</td>\n",
       "</tr>\n",
       "<tr>\n",
       "  <th>PSI</th>   <td>    1.4263</td> <td>    0.595</td> <td>    2.397</td> <td> 0.017</td> <td>    0.260</td> <td>    2.593</td>\n",
       "</tr>\n",
       "</table>"
      ],
      "text/plain": [
       "<class 'statsmodels.iolib.summary.Summary'>\n",
       "\"\"\"\n",
       "                               MyProbit Results                               \n",
       "==============================================================================\n",
       "Dep. Variable:                  GRADE   Log-Likelihood:                -12.819\n",
       "Model:                       MyProbit   AIC:                             33.64\n",
       "Method:            Maximum Likelihood   BIC:                             39.50\n",
       "Date:                Tue, 17 May 2022                                         \n",
       "Time:                        10:04:14                                         \n",
       "No. Observations:                  32                                         \n",
       "Df Residuals:                      28                                         \n",
       "Df Model:                           3                                         \n",
       "==============================================================================\n",
       "                 coef    std err          z      P>|z|      [0.025      0.975]\n",
       "------------------------------------------------------------------------------\n",
       "const         -7.4523      2.542     -2.931      0.003     -12.435      -2.469\n",
       "GPA            1.6258      0.694      2.343      0.019       0.266       2.986\n",
       "TUCE           0.0517      0.084      0.617      0.537      -0.113       0.216\n",
       "PSI            1.4263      0.595      2.397      0.017       0.260       2.593\n",
       "==============================================================================\n",
       "\"\"\""
      ]
     },
     "execution_count": 10,
     "metadata": {},
     "output_type": "execute_result"
    }
   ],
   "source": [
    "# Estimate the model and print summary\n",
    "sm_probit_manual = MyProbit(endog, exog).fit()\n",
    "sm_probit_manual.summary()"
   ]
  },
  {
   "cell_type": "code",
   "execution_count": 11,
   "id": "f4f55b06",
   "metadata": {},
   "outputs": [
    {
     "name": "stdout",
     "output_type": "stream",
     "text": [
      "Optimization terminated successfully.\n",
      "         Current function value: 0.400588\n",
      "         Iterations 6\n"
     ]
    }
   ],
   "source": [
    "# Compare to stats model cannes implemantartion\n",
    "sm_probit_canned = sm.Probit(endog, exog).fit()"
   ]
  },
  {
   "cell_type": "code",
   "execution_count": 12,
   "id": "dedf07d6",
   "metadata": {},
   "outputs": [
    {
     "name": "stdout",
     "output_type": "stream",
     "text": [
      "const   -7.452320\n",
      "GPA      1.625810\n",
      "TUCE     0.051729\n",
      "PSI      1.426332\n",
      "dtype: float64\n",
      "[-7.45233176  1.62580888  0.05172971  1.42631954]\n"
     ]
    }
   ],
   "source": [
    "print(sm_probit_canned.params)\n",
    "print(sm_probit_manual.params)"
   ]
  },
  {
   "cell_type": "code",
   "execution_count": 13,
   "id": "7ff5f1d3",
   "metadata": {},
   "outputs": [
    {
     "name": "stdout",
     "output_type": "stream",
     "text": [
      "          const       GPA      TUCE       PSI\n",
      "const  6.464166 -1.169668 -0.101173 -0.594792\n",
      "GPA   -1.169668  0.481473 -0.018914  0.105439\n",
      "TUCE  -0.101173 -0.018914  0.007038  0.002472\n",
      "PSI   -0.594792  0.105439  0.002472  0.354070\n",
      "[[ 6.46416770e+00 -1.16966617e+00 -1.01173181e-01 -5.94789009e-01]\n",
      " [-1.16966617e+00  4.81472117e-01 -1.89134591e-02  1.05438228e-01]\n",
      " [-1.01173181e-01 -1.89134591e-02  7.03758403e-03  2.47189233e-03]\n",
      " [-5.94789009e-01  1.05438228e-01  2.47189233e-03  3.54069514e-01]]\n"
     ]
    }
   ],
   "source": [
    "print(sm_probit_canned.cov_params())\n",
    "print(sm_probit_manual.cov_params())"
   ]
  },
  {
   "cell_type": "markdown",
   "id": "505ec71a",
   "metadata": {},
   "source": [
    "# EXAMPLE 2: NEGATIVE BINOMIAL REGRESSION FOR COUNT DATA"
   ]
  },
  {
   "cell_type": "code",
   "execution_count": 16,
   "id": "b0a3a7e7",
   "metadata": {},
   "outputs": [],
   "source": [
    "# Using the nbinom distrbution from scipy we can write likelihood like this\n",
    "import numpy as np\n",
    "from scipy.stats import nbinom"
   ]
  },
  {
   "cell_type": "code",
   "execution_count": 17,
   "id": "66b3dfdc",
   "metadata": {},
   "outputs": [],
   "source": [
    "def _ll_nb2(y, X, beta, alph):\n",
    "    mu = np.exp(np.dot(X, beta))\n",
    "    size = 1/alph\n",
    "    prob = size/(size+mu)\n",
    "    ll = nbinom.logpmf(y, size, prob)\n",
    "    return ll"
   ]
  },
  {
   "cell_type": "code",
   "execution_count": 18,
   "id": "224dc80c",
   "metadata": {},
   "outputs": [],
   "source": [
    "### NEW MODEL CLASS ###\n",
    "from statsmodels.base.model import GenericLikelihoodModel\n",
    "\n",
    "class NBin(GenericLikelihoodModel):\n",
    "    def __init__(self, endog, exog, **kwds):\n",
    "        super(NBin, self).__init__(endog, exog, **kwds)\n",
    "\n",
    "    def nloglikeobs(self, params):\n",
    "        alph = params[-1]\n",
    "        beta = params[:-1]\n",
    "        ll = _ll_nb2(self.endog, self.exog, beta, alph)\n",
    "        return -ll\n",
    "\n",
    "    def fit(self, start_params=None, maxiter=10000, maxfun=5000, **kwds):\n",
    "        # we have one additional parameter and we need to add it for summary\n",
    "        self.exog_names.append('alpha')\n",
    "        if start_params == None:\n",
    "            # Reasonable starting values\n",
    "            start_params = np.append(np.zeros(self.exog.shape[1]), .5)\n",
    "            # intercept\n",
    "            start_params[-2] = np.log(self.endog.mean())\n",
    "        return super(NBin, self).fit(start_params=start_params,\n",
    "                                     maxiter=maxiter, maxfun=maxfun,\n",
    "                                     **kwds)"
   ]
  },
  {
   "cell_type": "code",
   "execution_count": 19,
   "id": "0f56d934",
   "metadata": {},
   "outputs": [
    {
     "data": {
      "text/html": [
       "<div>\n",
       "<style scoped>\n",
       "    .dataframe tbody tr th:only-of-type {\n",
       "        vertical-align: middle;\n",
       "    }\n",
       "\n",
       "    .dataframe tbody tr th {\n",
       "        vertical-align: top;\n",
       "    }\n",
       "\n",
       "    .dataframe thead th {\n",
       "        text-align: right;\n",
       "    }\n",
       "</style>\n",
       "<table border=\"1\" class=\"dataframe\">\n",
       "  <thead>\n",
       "    <tr style=\"text-align: right;\">\n",
       "      <th></th>\n",
       "      <th>los</th>\n",
       "      <th>hmo</th>\n",
       "      <th>white</th>\n",
       "      <th>died</th>\n",
       "      <th>age80</th>\n",
       "      <th>type</th>\n",
       "      <th>type1</th>\n",
       "      <th>type2</th>\n",
       "      <th>type3</th>\n",
       "      <th>provnum</th>\n",
       "    </tr>\n",
       "  </thead>\n",
       "  <tbody>\n",
       "    <tr>\n",
       "      <th>0</th>\n",
       "      <td>4</td>\n",
       "      <td>0</td>\n",
       "      <td>1</td>\n",
       "      <td>0</td>\n",
       "      <td>0</td>\n",
       "      <td>1</td>\n",
       "      <td>1</td>\n",
       "      <td>0</td>\n",
       "      <td>0</td>\n",
       "      <td>30001</td>\n",
       "    </tr>\n",
       "    <tr>\n",
       "      <th>1</th>\n",
       "      <td>9</td>\n",
       "      <td>1</td>\n",
       "      <td>1</td>\n",
       "      <td>0</td>\n",
       "      <td>0</td>\n",
       "      <td>1</td>\n",
       "      <td>1</td>\n",
       "      <td>0</td>\n",
       "      <td>0</td>\n",
       "      <td>30001</td>\n",
       "    </tr>\n",
       "    <tr>\n",
       "      <th>2</th>\n",
       "      <td>3</td>\n",
       "      <td>1</td>\n",
       "      <td>1</td>\n",
       "      <td>1</td>\n",
       "      <td>1</td>\n",
       "      <td>1</td>\n",
       "      <td>1</td>\n",
       "      <td>0</td>\n",
       "      <td>0</td>\n",
       "      <td>30001</td>\n",
       "    </tr>\n",
       "    <tr>\n",
       "      <th>3</th>\n",
       "      <td>9</td>\n",
       "      <td>0</td>\n",
       "      <td>1</td>\n",
       "      <td>0</td>\n",
       "      <td>0</td>\n",
       "      <td>1</td>\n",
       "      <td>1</td>\n",
       "      <td>0</td>\n",
       "      <td>0</td>\n",
       "      <td>30001</td>\n",
       "    </tr>\n",
       "    <tr>\n",
       "      <th>4</th>\n",
       "      <td>1</td>\n",
       "      <td>0</td>\n",
       "      <td>1</td>\n",
       "      <td>1</td>\n",
       "      <td>1</td>\n",
       "      <td>1</td>\n",
       "      <td>1</td>\n",
       "      <td>0</td>\n",
       "      <td>0</td>\n",
       "      <td>30001</td>\n",
       "    </tr>\n",
       "  </tbody>\n",
       "</table>\n",
       "</div>"
      ],
      "text/plain": [
       "   los  hmo  white  died  age80  type  type1  type2  type3  provnum\n",
       "0    4    0      1     0      0     1      1      0      0    30001\n",
       "1    9    1      1     0      0     1      1      0      0    30001\n",
       "2    3    1      1     1      1     1      1      0      0    30001\n",
       "3    9    0      1     0      0     1      1      0      0    30001\n",
       "4    1    0      1     1      1     1      1      0      0    30001"
      ]
     },
     "execution_count": 19,
     "metadata": {},
     "output_type": "execute_result"
    }
   ],
   "source": [
    "# Usage example\n",
    "import statsmodels.api as sm\n",
    "\n",
    "medpar = sm.datasets.get_rdataset(\"medpar\", \"COUNT\", cache=True).data\n",
    "medpar.head()"
   ]
  },
  {
   "cell_type": "code",
   "execution_count": 20,
   "id": "8d2348de",
   "metadata": {},
   "outputs": [],
   "source": [
    "#The model we are interested in has a vector of non-negative \n",
    "# integers as dependent variable (los), and 5 regressors:\n",
    "# Intercept, type2, type3, hmo, white.\n",
    "\n",
    "#For estimation, we need to create two variables to hold our\n",
    "# regressors and the outcome variable. These can be ndarrays or\n",
    "# pandas objects.\n",
    "y = medpar.los\n",
    "X = medpar[[\"type2\", \"type3\", \"hmo\", \"white\"]].copy()\n",
    "X[\"constant\"] = 1"
   ]
  },
  {
   "cell_type": "code",
   "execution_count": 23,
   "id": "d4203cc9",
   "metadata": {},
   "outputs": [
    {
     "name": "stdout",
     "output_type": "stream",
     "text": [
      "Optimization terminated successfully.\n",
      "         Current function value: 3.209014\n",
      "         Iterations: 805\n",
      "         Function evaluations: 1238\n"
     ]
    }
   ],
   "source": [
    "mod = NBin(y, X)\n",
    "res = mod.fit()"
   ]
  },
  {
   "cell_type": "code",
   "execution_count": 24,
   "id": "57e480f1",
   "metadata": {},
   "outputs": [
    {
     "name": "stdout",
     "output_type": "stream",
     "text": [
      "Parameters:  [ 0.2212642   0.70613942 -0.06798155 -0.12903932  2.31026565  0.44575147]\n",
      "Standard errors:  [0.05059259 0.07613047 0.05326096 0.0685414  0.06794696 0.01981542]\n",
      "P-values:  [1.22298084e-005 1.76979047e-020 2.01819053e-001 5.97481232e-002\n",
      " 2.15207253e-253 4.62688811e-112]\n",
      "AIC:  9604.95320583016\n"
     ]
    }
   ],
   "source": [
    "print('Parameters: ', res.params)\n",
    "print('Standard errors: ', res.bse)\n",
    "print('P-values: ', res.pvalues)\n",
    "print('AIC: ', res.aic)"
   ]
  },
  {
   "cell_type": "code",
   "execution_count": 25,
   "id": "80525bb8",
   "metadata": {},
   "outputs": [
    {
     "data": {
      "text/html": [
       "<table class=\"simpletable\">\n",
       "<caption>NBin Results</caption>\n",
       "<tr>\n",
       "  <th>Dep. Variable:</th>            <td>los</td>        <th>  Log-Likelihood:    </th> <td> -4797.5</td>\n",
       "</tr>\n",
       "<tr>\n",
       "  <th>Model:</th>                   <td>NBin</td>        <th>  AIC:               </th> <td>   9605.</td>\n",
       "</tr>\n",
       "<tr>\n",
       "  <th>Method:</th>           <td>Maximum Likelihood</td> <th>  BIC:               </th> <td>   9632.</td>\n",
       "</tr>\n",
       "<tr>\n",
       "  <th>Date:</th>              <td>Tue, 17 May 2022</td>  <th>                     </th>     <td> </td>   \n",
       "</tr>\n",
       "<tr>\n",
       "  <th>Time:</th>                  <td>10:20:49</td>      <th>                     </th>     <td> </td>   \n",
       "</tr>\n",
       "<tr>\n",
       "  <th>No. Observations:</th>       <td>  1495</td>       <th>                     </th>     <td> </td>   \n",
       "</tr>\n",
       "<tr>\n",
       "  <th>Df Residuals:</th>           <td>  1490</td>       <th>                     </th>     <td> </td>   \n",
       "</tr>\n",
       "<tr>\n",
       "  <th>Df Model:</th>               <td>     4</td>       <th>                     </th>     <td> </td>   \n",
       "</tr>\n",
       "</table>\n",
       "<table class=\"simpletable\">\n",
       "<tr>\n",
       "      <td></td>        <th>coef</th>     <th>std err</th>      <th>z</th>      <th>P>|z|</th>  <th>[0.025</th>    <th>0.975]</th>  \n",
       "</tr>\n",
       "<tr>\n",
       "  <th>type2</th>    <td>    0.2213</td> <td>    0.051</td> <td>    4.373</td> <td> 0.000</td> <td>    0.122</td> <td>    0.320</td>\n",
       "</tr>\n",
       "<tr>\n",
       "  <th>type3</th>    <td>    0.7061</td> <td>    0.076</td> <td>    9.275</td> <td> 0.000</td> <td>    0.557</td> <td>    0.855</td>\n",
       "</tr>\n",
       "<tr>\n",
       "  <th>hmo</th>      <td>   -0.0680</td> <td>    0.053</td> <td>   -1.276</td> <td> 0.202</td> <td>   -0.172</td> <td>    0.036</td>\n",
       "</tr>\n",
       "<tr>\n",
       "  <th>white</th>    <td>   -0.1290</td> <td>    0.069</td> <td>   -1.883</td> <td> 0.060</td> <td>   -0.263</td> <td>    0.005</td>\n",
       "</tr>\n",
       "<tr>\n",
       "  <th>constant</th> <td>    2.3103</td> <td>    0.068</td> <td>   34.001</td> <td> 0.000</td> <td>    2.177</td> <td>    2.443</td>\n",
       "</tr>\n",
       "<tr>\n",
       "  <th>alpha</th>    <td>    0.4458</td> <td>    0.020</td> <td>   22.495</td> <td> 0.000</td> <td>    0.407</td> <td>    0.485</td>\n",
       "</tr>\n",
       "</table>"
      ],
      "text/plain": [
       "<class 'statsmodels.iolib.summary.Summary'>\n",
       "\"\"\"\n",
       "                                 NBin Results                                 \n",
       "==============================================================================\n",
       "Dep. Variable:                    los   Log-Likelihood:                -4797.5\n",
       "Model:                           NBin   AIC:                             9605.\n",
       "Method:            Maximum Likelihood   BIC:                             9632.\n",
       "Date:                Tue, 17 May 2022                                         \n",
       "Time:                        10:20:49                                         \n",
       "No. Observations:                1495                                         \n",
       "Df Residuals:                    1490                                         \n",
       "Df Model:                           4                                         \n",
       "==============================================================================\n",
       "                 coef    std err          z      P>|z|      [0.025      0.975]\n",
       "------------------------------------------------------------------------------\n",
       "type2          0.2213      0.051      4.373      0.000       0.122       0.320\n",
       "type3          0.7061      0.076      9.275      0.000       0.557       0.855\n",
       "hmo           -0.0680      0.053     -1.276      0.202      -0.172       0.036\n",
       "white         -0.1290      0.069     -1.883      0.060      -0.263       0.005\n",
       "constant       2.3103      0.068     34.001      0.000       2.177       2.443\n",
       "alpha          0.4458      0.020     22.495      0.000       0.407       0.485\n",
       "==============================================================================\n",
       "\"\"\""
      ]
     },
     "execution_count": 25,
     "metadata": {},
     "output_type": "execute_result"
    }
   ],
   "source": [
    "res.summary()"
   ]
  },
  {
   "cell_type": "code",
   "execution_count": 26,
   "id": "84ef916a",
   "metadata": {},
   "outputs": [
    {
     "name": "stdout",
     "output_type": "stream",
     "text": [
      "                     NegativeBinomial Regression Results                      \n",
      "==============================================================================\n",
      "Dep. Variable:                    los   No. Observations:                 1495\n",
      "Model:               NegativeBinomial   Df Residuals:                     1490\n",
      "Method:                           MLE   Df Model:                            4\n",
      "Date:                Tue, 17 May 2022   Pseudo R-squ.:                 0.01215\n",
      "Time:                        10:21:07   Log-Likelihood:                -4797.5\n",
      "converged:                       True   LL-Null:                       -4856.5\n",
      "Covariance Type:            nonrobust   LLR p-value:                 1.404e-24\n",
      "==============================================================================\n",
      "                 coef    std err          z      P>|z|      [0.025      0.975]\n",
      "------------------------------------------------------------------------------\n",
      "type2          0.2212      0.051      4.373      0.000       0.122       0.320\n",
      "type3          0.7062      0.076      9.276      0.000       0.557       0.855\n",
      "hmo           -0.0680      0.053     -1.276      0.202      -0.172       0.036\n",
      "white         -0.1291      0.069     -1.883      0.060      -0.263       0.005\n",
      "constant       2.3103      0.068     34.001      0.000       2.177       2.443\n",
      "alpha          0.4457      0.020     22.495      0.000       0.407       0.485\n",
      "==============================================================================\n"
     ]
    }
   ],
   "source": [
    "# TEstiung\n",
    "res_nbin = sm.NegativeBinomial(y, X).fit(disp=0)\n",
    "print(res_nbin.summary())"
   ]
  }
 ],
 "metadata": {
  "kernelspec": {
   "display_name": "Python 3 (ipykernel)",
   "language": "python",
   "name": "python3"
  },
  "language_info": {
   "codemirror_mode": {
    "name": "ipython",
    "version": 3
   },
   "file_extension": ".py",
   "mimetype": "text/x-python",
   "name": "python",
   "nbconvert_exporter": "python",
   "pygments_lexer": "ipython3",
   "version": "3.7.11"
  }
 },
 "nbformat": 4,
 "nbformat_minor": 5
}

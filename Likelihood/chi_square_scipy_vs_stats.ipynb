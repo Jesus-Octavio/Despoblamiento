{
 "cells": [
  {
   "cell_type": "code",
   "execution_count": 2,
   "id": "72c5f329",
   "metadata": {},
   "outputs": [],
   "source": [
    "import numpy as np"
   ]
  },
  {
   "cell_type": "code",
   "execution_count": 3,
   "id": "7feac27e",
   "metadata": {},
   "outputs": [],
   "source": [
    "## Contintengy table\n",
    "tab = np.array([[6, 20],\n",
    "               [13, 5]])"
   ]
  },
  {
   "cell_type": "code",
   "execution_count": 6,
   "id": "5ffd0abf",
   "metadata": {},
   "outputs": [
    {
     "name": "stdout",
     "output_type": "stream",
     "text": [
      "Chi square test\n",
      "Chi squared = 8.563275\n",
      "p           = 0.003430\n",
      "DOF         = 1\n"
     ]
    }
   ],
   "source": [
    "### Scipy\n",
    "from scipy.stats import chi2_contingency\n",
    "\n",
    "chi_val,p_val,dof,exp_val=chi2_contingency(tab)\n",
    "print(\"Chi square test\\nChi squared = %f\\np           = %f\\nDOF         = %d\"%(chi_val,p_val,dof))"
   ]
  },
  {
   "cell_type": "code",
   "execution_count": 12,
   "id": "6547f771",
   "metadata": {},
   "outputs": [
    {
     "name": "stdout",
     "output_type": "stream",
     "text": [
      "Chi square test\n",
      "Chi squared = 10.470535\n",
      "p           = 0.001213\n",
      "DOF         = 1\n"
     ]
    }
   ],
   "source": [
    "### Scipy\n",
    "from scipy.stats import chi2_contingency\n",
    "\n",
    "chi_val,p_val,dof,exp_val=chi2_contingency(tab, correction = False)\n",
    "print(\"Chi square test\\nChi squared = %f\\np           = %f\\nDOF         = %d\"%(chi_val,p_val,dof))"
   ]
  },
  {
   "cell_type": "code",
   "execution_count": 7,
   "id": "9cd6693a",
   "metadata": {},
   "outputs": [
    {
     "name": "stdout",
     "output_type": "stream",
     "text": [
      "df          1\n",
      "pvalue      0.0012129356662224922\n",
      "statistic   10.470535312640576\n"
     ]
    }
   ],
   "source": [
    "### Statsmodels\n",
    "import statsmodels.api as sm\n",
    "\n",
    "table = sm.stats.Table(tab)\n",
    "res =  table.test_nominal_association()\n",
    "print (res)"
   ]
  }
 ],
 "metadata": {
  "kernelspec": {
   "display_name": "Python 3 (ipykernel)",
   "language": "python",
   "name": "python3"
  },
  "language_info": {
   "codemirror_mode": {
    "name": "ipython",
    "version": 3
   },
   "file_extension": ".py",
   "mimetype": "text/x-python",
   "name": "python",
   "nbconvert_exporter": "python",
   "pygments_lexer": "ipython3",
   "version": "3.7.11"
  }
 },
 "nbformat": 4,
 "nbformat_minor": 5
}

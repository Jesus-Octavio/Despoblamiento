{
 "cells": [
  {
   "cell_type": "markdown",
   "id": "bbff2e65",
   "metadata": {},
   "source": [
    "# CHI-SQUARE TEST OF INDEPENDENCE"
   ]
  },
  {
   "cell_type": "markdown",
   "id": "3c40b7d8",
   "metadata": {},
   "source": [
    "The table below is an exit poll which displays the joint responses to 2 categorical variables: people in categories from consider from 18–29, 30–44, 45–64 and >65 years, and their political affiliation, which is “Conservative”, “Socialist” and “Other”. Is there any evidence of a relationship between the age group and their political affiliation, at 5% significant level?"
   ]
  },
  {
   "cell_type": "code",
   "execution_count": 12,
   "id": "fd8b1da9",
   "metadata": {},
   "outputs": [],
   "source": [
    "import pandas as pd\n",
    "import scipy.stats as stats"
   ]
  },
  {
   "cell_type": "code",
   "execution_count": 3,
   "id": "aee204af",
   "metadata": {},
   "outputs": [],
   "source": [
    "# Create sample data\n",
    "data = [['18-29', 'Conservative'] for i in range(141)] + \\\n",
    "        [['18-29', 'Socialist'] for i in range(68)] + \\\n",
    "        [['18-29', 'Other'] for i in range(4)] + \\\n",
    "        [['30-44', 'Conservative'] for i in range(179)] + \\\n",
    "        [['30-44', 'Socialist'] for i in range(159)] + \\\n",
    "        [['30-44', 'Other'] for i in range(7)] + \\\n",
    "        [['45-65', 'Conservative'] for i in range(220)] + \\\n",
    "        [['45-65', 'Socialist'] for i in range(216)] + \\\n",
    "        [['45-65', 'Other'] for i in range(4)] + \\\n",
    "        [['65 & older', 'Conservative'] for i in range(86)] + \\\n",
    "        [['65 & older', 'Socialist'] for i in range(101)] + \\\n",
    "        [['65 & older', 'Other'] for i in range(4)]\n",
    "df = pd.DataFrame(data, columns = ['Age Group', 'Political Affiliation']) "
   ]
  },
  {
   "cell_type": "code",
   "execution_count": 5,
   "id": "f9305f36",
   "metadata": {},
   "outputs": [
    {
     "data": {
      "text/html": [
       "<div>\n",
       "<style scoped>\n",
       "    .dataframe tbody tr th:only-of-type {\n",
       "        vertical-align: middle;\n",
       "    }\n",
       "\n",
       "    .dataframe tbody tr th {\n",
       "        vertical-align: top;\n",
       "    }\n",
       "\n",
       "    .dataframe thead th {\n",
       "        text-align: right;\n",
       "    }\n",
       "</style>\n",
       "<table border=\"1\" class=\"dataframe\">\n",
       "  <thead>\n",
       "    <tr style=\"text-align: right;\">\n",
       "      <th>Political Affiliation</th>\n",
       "      <th>Conservative</th>\n",
       "      <th>Other</th>\n",
       "      <th>Socialist</th>\n",
       "      <th>Total</th>\n",
       "    </tr>\n",
       "    <tr>\n",
       "      <th>Age Group</th>\n",
       "      <th></th>\n",
       "      <th></th>\n",
       "      <th></th>\n",
       "      <th></th>\n",
       "    </tr>\n",
       "  </thead>\n",
       "  <tbody>\n",
       "    <tr>\n",
       "      <th>18-29</th>\n",
       "      <td>141</td>\n",
       "      <td>4</td>\n",
       "      <td>68</td>\n",
       "      <td>213</td>\n",
       "    </tr>\n",
       "    <tr>\n",
       "      <th>30-44</th>\n",
       "      <td>179</td>\n",
       "      <td>7</td>\n",
       "      <td>159</td>\n",
       "      <td>345</td>\n",
       "    </tr>\n",
       "    <tr>\n",
       "      <th>45-65</th>\n",
       "      <td>220</td>\n",
       "      <td>4</td>\n",
       "      <td>216</td>\n",
       "      <td>440</td>\n",
       "    </tr>\n",
       "    <tr>\n",
       "      <th>65 &amp; older</th>\n",
       "      <td>86</td>\n",
       "      <td>4</td>\n",
       "      <td>101</td>\n",
       "      <td>191</td>\n",
       "    </tr>\n",
       "    <tr>\n",
       "      <th>Total</th>\n",
       "      <td>626</td>\n",
       "      <td>19</td>\n",
       "      <td>544</td>\n",
       "      <td>1189</td>\n",
       "    </tr>\n",
       "  </tbody>\n",
       "</table>\n",
       "</div>"
      ],
      "text/plain": [
       "Political Affiliation  Conservative  Other  Socialist  Total\n",
       "Age Group                                                   \n",
       "18-29                           141      4         68    213\n",
       "30-44                           179      7        159    345\n",
       "45-65                           220      4        216    440\n",
       "65 & older                       86      4        101    191\n",
       "Total                           626     19        544   1189"
      ]
     },
     "execution_count": 5,
     "metadata": {},
     "output_type": "execute_result"
    }
   ],
   "source": [
    "# Create contingency table\n",
    "data_crosstab = pd.crosstab(df['Age Group'],\n",
    "                            df['Political Affiliation'],\n",
    "                           margins=True, margins_name=\"Total\")\n",
    "data_crosstab"
   ]
  },
  {
   "cell_type": "code",
   "execution_count": 7,
   "id": "7c31b33a",
   "metadata": {},
   "outputs": [],
   "source": [
    "# significance level\n",
    "alpha = 0.05"
   ]
  },
  {
   "cell_type": "code",
   "execution_count": 9,
   "id": "27944b9c",
   "metadata": {},
   "outputs": [],
   "source": [
    "# Calcualtion of Chisquare\n",
    "chi_square = 0\n",
    "rows = df['Age Group'].unique()\n",
    "columns = df['Political Affiliation'].unique()\n",
    "for i in columns:\n",
    "    for j in rows:\n",
    "        O = data_crosstab[i][j]\n",
    "        E = data_crosstab[i]['Total'] * data_crosstab['Total'][j] / data_crosstab['Total']['Total']\n",
    "        chi_square += (O-E)**2/E"
   ]
  },
  {
   "cell_type": "code",
   "execution_count": 14,
   "id": "23656cf2",
   "metadata": {},
   "outputs": [
    {
     "name": "stdout",
     "output_type": "stream",
     "text": [
      "Approach 1: The p-value approach to hypothesis testing in the decision rule\n",
      "\n",
      "\n",
      "chisquare-score is: 24.367421717305202  and p value is: 0.0004469083391495099\n",
      "\n",
      "\n",
      "Null Hypothesis is rejected.\n"
     ]
    }
   ],
   "source": [
    "# The p-value approach\n",
    "print(\"Approach 1: The p-value approach to hypothesis testing in the decision rule\")\n",
    "print(\"\\n\")\n",
    "p_value = 1 - stats.chi2.cdf(chi_square, (len(rows)-1)*(len(columns)-1))\n",
    "conclusion = \"Failed to reject the null hypothesis.\"\n",
    "if p_value <= alpha:\n",
    "    conclusion = \"Null Hypothesis is rejected.\"\n",
    "        \n",
    "print(\"chisquare-score is:\", chi_square, \" and p value is:\", p_value)\n",
    "print(\"\\n\")\n",
    "print(conclusion)"
   ]
  },
  {
   "cell_type": "code",
   "execution_count": 16,
   "id": "9ee2f173",
   "metadata": {},
   "outputs": [
    {
     "name": "stdout",
     "output_type": "stream",
     "text": [
      "\n",
      "\n",
      "Approach 2: The critical value approach to hypothesis testing in the decision rule\n"
     ]
    }
   ],
   "source": [
    "# The critical value approach\n",
    "print(\"\\n\")\n",
    "print(\"Approach 2: The critical value approach to hypothesis testing in the decision rule\")\n",
    "critical_value = stats.chi2.ppf(1-alpha, (len(rows)-1)*(len(columns)-1))\n",
    "conclusion = \"Failed to reject the null hypothesis.\"\n",
    "if chi_square > critical_value:\n",
    "    conclusion = \"Null Hypothesis is rejected.\""
   ]
  },
  {
   "cell_type": "markdown",
   "id": "48ca80f0",
   "metadata": {},
   "source": [
    "# CHI-SQUARE GODNESS OF FIT-TEST"
   ]
  },
  {
   "cell_type": "markdown",
   "id": "c6608b20",
   "metadata": {},
   "source": [
    "The table below displays the more than 44 million people voting result for 2013 German Federal Election. 41.5% of German vote for the Christian Democratic Union (CDU), 25.7% for the Social Democratic Party (SPD) and the remaining 32.8% as Others.\n",
    "\n",
    "Assume the researcher take a random sample and pick 123 students of FU Berlin about their party affiliation. Out of them 57 vote for CDU, 26 vote for SPD and 40 for Others. These number corresponds to the observed frequencies."
   ]
  },
  {
   "cell_type": "code",
   "execution_count": 19,
   "id": "19ce359a",
   "metadata": {},
   "outputs": [
    {
     "data": {
      "text/html": [
       "<div>\n",
       "<style scoped>\n",
       "    .dataframe tbody tr th:only-of-type {\n",
       "        vertical-align: middle;\n",
       "    }\n",
       "\n",
       "    .dataframe tbody tr th {\n",
       "        vertical-align: top;\n",
       "    }\n",
       "\n",
       "    .dataframe thead th {\n",
       "        text-align: right;\n",
       "    }\n",
       "</style>\n",
       "<table border=\"1\" class=\"dataframe\">\n",
       "  <thead>\n",
       "    <tr style=\"text-align: right;\">\n",
       "      <th></th>\n",
       "      <th>Varname</th>\n",
       "      <th>prob_dist</th>\n",
       "      <th>observed_freq</th>\n",
       "      <th>expected_freq</th>\n",
       "    </tr>\n",
       "  </thead>\n",
       "  <tbody>\n",
       "    <tr>\n",
       "      <th>0</th>\n",
       "      <td>CDU</td>\n",
       "      <td>0.415</td>\n",
       "      <td>57</td>\n",
       "      <td>51.045</td>\n",
       "    </tr>\n",
       "    <tr>\n",
       "      <th>1</th>\n",
       "      <td>SPD</td>\n",
       "      <td>0.257</td>\n",
       "      <td>26</td>\n",
       "      <td>31.611</td>\n",
       "    </tr>\n",
       "    <tr>\n",
       "      <th>2</th>\n",
       "      <td>Others</td>\n",
       "      <td>0.328</td>\n",
       "      <td>40</td>\n",
       "      <td>40.344</td>\n",
       "    </tr>\n",
       "  </tbody>\n",
       "</table>\n",
       "</div>"
      ],
      "text/plain": [
       "  Varname  prob_dist  observed_freq  expected_freq\n",
       "0     CDU      0.415             57         51.045\n",
       "1     SPD      0.257             26         31.611\n",
       "2  Others      0.328             40         40.344"
      ]
     },
     "execution_count": 19,
     "metadata": {},
     "output_type": "execute_result"
    }
   ],
   "source": [
    "# Creation of data\n",
    "data = [['CDU', 0.415, 57], ['SPD', 0.257, 26], ['Others', 0.328, 40]] \n",
    "df = pd.DataFrame(data, columns = ['Varname', 'prob_dist', 'observed_freq']) \n",
    "df['expected_freq'] = df['observed_freq'].sum() * df['prob_dist']\n",
    "df"
   ]
  },
  {
   "cell_type": "code",
   "execution_count": 20,
   "id": "7ab38ade",
   "metadata": {},
   "outputs": [],
   "source": [
    "# significance level\n",
    "alpha = 0.05\n"
   ]
  },
  {
   "cell_type": "code",
   "execution_count": 21,
   "id": "6eec72f6",
   "metadata": {},
   "outputs": [],
   "source": [
    "# Calcualtion of Chisquare\n",
    "chi_square = 0\n",
    "for i in range(len(df)):\n",
    "    O = df.loc[i, 'observed_freq']\n",
    "    E = df.loc[i, 'expected_freq']\n",
    "    chi_square += (O-E)**2/E"
   ]
  },
  {
   "cell_type": "code",
   "execution_count": 22,
   "id": "1292e378",
   "metadata": {},
   "outputs": [
    {
     "name": "stdout",
     "output_type": "stream",
     "text": [
      "Approach 1: The p-value approach to hypothesis testing in the decision rule\n",
      "chisquare-score is: 1.693614940576721  and p value is: 0.42878164729702506\n",
      "Failed to reject the null hypothesis.\n"
     ]
    }
   ],
   "source": [
    "# The p-value approach\n",
    "print(\"Approach 1: The p-value approach to hypothesis testing in the decision rule\")\n",
    "p_value = 1 - stats.chi2.cdf(chi_square, df['Varname'].nunique() - 1)\n",
    "conclusion = \"Failed to reject the null hypothesis.\"\n",
    "if p_value <= alpha:\n",
    "    conclusion = \"Null Hypothesis is rejected.\"\n",
    "        \n",
    "print(\"chisquare-score is:\", chi_square, \" and p value is:\", p_value)\n",
    "print(conclusion)\n",
    "    "
   ]
  },
  {
   "cell_type": "code",
   "execution_count": 23,
   "id": "93b4b71e",
   "metadata": {},
   "outputs": [
    {
     "name": "stdout",
     "output_type": "stream",
     "text": [
      "\n",
      "--------------------------------------------------------------------------------------\n",
      "Approach 2: The critical value approach to hypothesis testing in the decision rule\n",
      "chisquare-score is: 1.693614940576721  and critical value is: 5.991464547107979\n",
      "Failed to reject the null hypothesis.\n"
     ]
    }
   ],
   "source": [
    "# The critical value approach\n",
    "print(\"\\n--------------------------------------------------------------------------------------\")\n",
    "print(\"Approach 2: The critical value approach to hypothesis testing in the decision rule\")\n",
    "critical_value = stats.chi2.ppf(1-alpha, df['Varname'].nunique() - 1)\n",
    "conclusion = \"Failed to reject the null hypothesis.\"\n",
    "if chi_square > critical_value:\n",
    "    conclusion = \"Null Hypothesis is rejected.\"\n",
    "        \n",
    "print(\"chisquare-score is:\", chi_square, \" and critical value is:\", critical_value)\n",
    "print(conclusion)"
   ]
  }
 ],
 "metadata": {
  "kernelspec": {
   "display_name": "Python 3 (ipykernel)",
   "language": "python",
   "name": "python3"
  },
  "language_info": {
   "codemirror_mode": {
    "name": "ipython",
    "version": 3
   },
   "file_extension": ".py",
   "mimetype": "text/x-python",
   "name": "python",
   "nbconvert_exporter": "python",
   "pygments_lexer": "ipython3",
   "version": "3.7.11"
  }
 },
 "nbformat": 4,
 "nbformat_minor": 5
}
